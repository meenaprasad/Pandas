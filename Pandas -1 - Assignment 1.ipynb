{
 "cells": [
  {
   "cell_type": "markdown",
   "metadata": {},
   "source": [
    "##                            Session 8: Assignment 1"
   ]
  },
  {
   "cell_type": "markdown",
   "metadata": {},
   "source": [
    "1) How-to-count-distance-to-the-previous-zero\n",
    "\n",
    "For each value, count the difference of the distance from the previous zero (or the start\n",
    "of the Series, whichever is closer) and if there are no previous zeros,print the position\n",
    "\n",
    "Consider a DataFrame df where there is an integer column {'X':[7, 2, 0, 3, 4, 2, 5, 0, 3, 4]}\n",
    "\n",
    "The values should therefore be [1, 2, 0, 1, 2, 3, 4, 0, 1, 2]. \n",
    "\n",
    "Make this a new column 'Y'.\n",
    "\n",
    "import pandas as pd\n",
    "\n",
    "df = pd.DataFrame({'X': [7, 2, 0, 3, 4, 2, 5, 0, 3, 4]})\n",
    "\n"
   ]
  },
  {
   "cell_type": "code",
   "execution_count": 1,
   "metadata": {},
   "outputs": [],
   "source": [
    "import pandas as pd"
   ]
  },
  {
   "cell_type": "code",
   "execution_count": 2,
   "metadata": {},
   "outputs": [],
   "source": [
    "import numpy as np"
   ]
  },
  {
   "cell_type": "code",
   "execution_count": 6,
   "metadata": {},
   "outputs": [
    {
     "name": "stdout",
     "output_type": "stream",
     "text": [
      "   X    Y\n",
      "0  7  1.0\n",
      "1  2  2.0\n",
      "2  0  0.0\n",
      "3  3  1.0\n",
      "4  4  2.0\n",
      "5  2  3.0\n",
      "6  5  4.0\n",
      "7  0  0.0\n",
      "8  3  1.0\n",
      "9  4  2.0\n"
     ]
    }
   ],
   "source": [
    "\n",
    "df = pd.DataFrame({'X': [7, 2, 0, 3, 4, 2, 5, 0, 3, 4]})\n",
    "x = (df['X'] != 0).cumsum()\n",
    "y = x != x.shift()\n",
    "\n",
    "df['Y'] = y.groupby((y != y.shift()).cumsum()).cumsum()\n",
    "\n",
    "x = (df['X'] != 0).cumsum()\n",
    "y = x != x.shift()\n",
    "\n",
    "df['Y'] = y.groupby((y != y.shift()).cumsum()).cumsum()\n",
    "\n",
    "print(df)"
   ]
  },
  {
   "cell_type": "markdown",
   "metadata": {},
   "source": [
    "2) Create a DatetimeIndex that contains each business day of 2015 and use it to index a Series of random numbers\n"
   ]
  },
  {
   "cell_type": "code",
   "execution_count": 26,
   "metadata": {},
   "outputs": [
    {
     "name": "stdout",
     "output_type": "stream",
     "text": [
      "          date       num\n",
      "0   2015-01-01  0.716090\n",
      "1   2015-01-02  0.738787\n",
      "2   2015-01-03  0.363841\n",
      "3   2015-01-04  0.731231\n",
      "4   2015-01-05  0.991213\n",
      "5   2015-01-06  0.949944\n",
      "6   2015-01-07  0.057989\n",
      "7   2015-01-08  0.481392\n",
      "8   2015-01-09  0.797441\n",
      "9   2015-01-10  0.113644\n",
      "10  2015-01-11  0.392112\n",
      "11  2015-01-12  0.099979\n",
      "12  2015-01-13  0.846161\n",
      "13  2015-01-14  0.434164\n",
      "14  2015-01-15  0.457392\n",
      "15  2015-01-16  0.412334\n",
      "16  2015-01-17  0.014135\n",
      "17  2015-01-18  0.921300\n",
      "18  2015-01-19  0.011247\n",
      "19  2015-01-20  0.442402\n",
      "20  2015-01-21  0.099980\n",
      "21  2015-01-22  0.263800\n",
      "22  2015-01-23  0.963714\n",
      "23  2015-01-24  0.836315\n",
      "24  2015-01-25  0.473116\n",
      "25  2015-01-26  0.341466\n",
      "26  2015-01-27  0.303641\n",
      "27  2015-01-28  0.511090\n",
      "28  2015-01-29  0.027203\n",
      "29  2015-01-30  0.017627\n",
      "..         ...       ...\n",
      "335 2015-12-02  0.829564\n",
      "336 2015-12-03  0.568747\n",
      "337 2015-12-04  0.142536\n",
      "338 2015-12-05  0.440754\n",
      "339 2015-12-06  0.576932\n",
      "340 2015-12-07  0.331941\n",
      "341 2015-12-08  0.352491\n",
      "342 2015-12-09  0.650192\n",
      "343 2015-12-10  0.680437\n",
      "344 2015-12-11  0.718458\n",
      "345 2015-12-12  0.534249\n",
      "346 2015-12-13  0.112568\n",
      "347 2015-12-14  0.616534\n",
      "348 2015-12-15  0.704421\n",
      "349 2015-12-16  0.307706\n",
      "350 2015-12-17  0.828960\n",
      "351 2015-12-18  0.383870\n",
      "352 2015-12-19  0.896187\n",
      "353 2015-12-20  0.053387\n",
      "354 2015-12-21  0.709732\n",
      "355 2015-12-22  0.953916\n",
      "356 2015-12-23  0.678891\n",
      "357 2015-12-24  0.366069\n",
      "358 2015-12-25  0.123043\n",
      "359 2015-12-26  0.214360\n",
      "360 2015-12-27  0.112987\n",
      "361 2015-12-28  0.452674\n",
      "362 2015-12-29  0.648062\n",
      "363 2015-12-30  0.392457\n",
      "364 2015-12-31  0.031439\n",
      "\n",
      "[365 rows x 2 columns]\n"
     ]
    }
   ],
   "source": [
    "datetimeindex = pd.date_range(start='2015-01-01', end='2015-12-31')\n",
    "s = pd.Series(np.random.rand(len(datetimeindex)),index=datetimeindex)\n",
    "s= pd.DataFrame(s)\n",
    "s.reset_index(inplace = True)\n",
    "s.columns = ['date', 'num']\n",
    "print(s)"
   ]
  },
  {
   "cell_type": "markdown",
   "metadata": {},
   "source": [
    "3) Find the sum of the values in s for every Wednesday"
   ]
  },
  {
   "cell_type": "code",
   "execution_count": 63,
   "metadata": {},
   "outputs": [
    {
     "name": "stdout",
     "output_type": "stream",
     "text": [
      "weekday\n",
      "Friday       24.615273\n",
      "Monday       29.576815\n",
      "Saturday     27.521398\n",
      "Sunday       25.236548\n",
      "Thursday     25.576354\n",
      "Tuesday      27.088881\n",
      "Wednesday    23.559428\n",
      "Name: num, dtype: float64\n"
     ]
    },
    {
     "name": "stderr",
     "output_type": "stream",
     "text": [
      "C:\\Users\\meenakshi313290\\AppData\\Local\\Continuum\\anaconda3\\lib\\site-packages\\ipykernel_launcher.py:1: FutureWarning: `weekday_name` is deprecated and will be removed in a future version. Use `day_name` instead\n",
      "  \"\"\"Entry point for launching an IPython kernel.\n"
     ]
    }
   ],
   "source": [
    "s['weekday'] = s.apply(lambda x : x['date'].weekday_name ,axis = 1)\n",
    "wk = s.groupby(['weekday'])['num'].agg(sum)\n",
    "print(wk)\n"
   ]
  },
  {
   "cell_type": "markdown",
   "metadata": {},
   "source": [
    "4) Average For each calendar month "
   ]
  },
  {
   "cell_type": "code",
   "execution_count": 80,
   "metadata": {},
   "outputs": [
    {
     "name": "stdout",
     "output_type": "stream",
     "text": [
      "month\n",
      "1     0.475750\n",
      "2     0.460786\n",
      "3     0.541818\n",
      "4     0.405381\n",
      "5     0.486590\n",
      "6     0.506238\n",
      "7     0.542880\n",
      "8     0.537707\n",
      "9     0.545440\n",
      "10    0.587678\n",
      "11    0.429335\n",
      "12    0.494702\n",
      "Name: num, dtype: float64\n"
     ]
    }
   ],
   "source": [
    "s['month'] = s.apply(lambda x : x['date'].month, axis = 1)\n",
    "month_mean = s.groupby(['month'])['num'].mean()\n",
    "print(month_mean)"
   ]
  },
  {
   "cell_type": "markdown",
   "metadata": {},
   "source": [
    "5) For each group of four consecutive calendar months in s, find the date on which the highest value occurred.\n"
   ]
  },
  {
   "cell_type": "code",
   "execution_count": 87,
   "metadata": {},
   "outputs": [
    {
     "data": {
      "text/html": [
       "<div>\n",
       "<style scoped>\n",
       "    .dataframe tbody tr th:only-of-type {\n",
       "        vertical-align: middle;\n",
       "    }\n",
       "\n",
       "    .dataframe tbody tr th {\n",
       "        vertical-align: top;\n",
       "    }\n",
       "\n",
       "    .dataframe thead th {\n",
       "        text-align: right;\n",
       "    }\n",
       "</style>\n",
       "<table border=\"1\" class=\"dataframe\">\n",
       "  <thead>\n",
       "    <tr style=\"text-align: right;\">\n",
       "      <th></th>\n",
       "      <th>date</th>\n",
       "      <th>num</th>\n",
       "      <th>weekday</th>\n",
       "      <th>month</th>\n",
       "      <th>quarter</th>\n",
       "    </tr>\n",
       "  </thead>\n",
       "  <tbody>\n",
       "    <tr>\n",
       "      <th>4</th>\n",
       "      <td>2015-01-05</td>\n",
       "      <td>0.991213</td>\n",
       "      <td>Monday</td>\n",
       "      <td>1</td>\n",
       "      <td>1</td>\n",
       "    </tr>\n",
       "    <tr>\n",
       "      <th>179</th>\n",
       "      <td>2015-06-29</td>\n",
       "      <td>0.962799</td>\n",
       "      <td>Monday</td>\n",
       "      <td>6</td>\n",
       "      <td>2</td>\n",
       "    </tr>\n",
       "    <tr>\n",
       "      <th>213</th>\n",
       "      <td>2015-08-02</td>\n",
       "      <td>0.990561</td>\n",
       "      <td>Sunday</td>\n",
       "      <td>8</td>\n",
       "      <td>3</td>\n",
       "    </tr>\n",
       "    <tr>\n",
       "      <th>295</th>\n",
       "      <td>2015-10-23</td>\n",
       "      <td>0.965110</td>\n",
       "      <td>Friday</td>\n",
       "      <td>10</td>\n",
       "      <td>4</td>\n",
       "    </tr>\n",
       "  </tbody>\n",
       "</table>\n",
       "</div>"
      ],
      "text/plain": [
       "          date       num weekday  month  quarter\n",
       "4   2015-01-05  0.991213  Monday      1        1\n",
       "179 2015-06-29  0.962799  Monday      6        2\n",
       "213 2015-08-02  0.990561  Sunday      8        3\n",
       "295 2015-10-23  0.965110  Friday     10        4"
      ]
     },
     "execution_count": 87,
     "metadata": {},
     "output_type": "execute_result"
    }
   ],
   "source": [
    "s['quarter'] = s.apply(lambda x : x['date'].quarter, axis = 1)\n",
    "s.groupby(['quarter'])['num'].idxmax()\n",
    "s.loc[s.groupby(['quarter'])['num'].idxmax()]\n"
   ]
  },
  {
   "cell_type": "code",
   "execution_count": null,
   "metadata": {},
   "outputs": [],
   "source": [
    "    "
   ]
  }
 ],
 "metadata": {
  "kernelspec": {
   "display_name": "Python 3",
   "language": "python",
   "name": "python3"
  },
  "language_info": {
   "codemirror_mode": {
    "name": "ipython",
    "version": 3
   },
   "file_extension": ".py",
   "mimetype": "text/x-python",
   "name": "python",
   "nbconvert_exporter": "python",
   "pygments_lexer": "ipython3",
   "version": "3.7.0"
  }
 },
 "nbformat": 4,
 "nbformat_minor": 2
}
